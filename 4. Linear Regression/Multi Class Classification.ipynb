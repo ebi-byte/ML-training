{
 "cells": [
  {
   "cell_type": "markdown",
   "metadata": {},
   "source": [
    "### Multinomial Logistic Regression  "
   ]
  },
  {
   "cell_type": "markdown",
   "metadata": {},
   "source": [
    "In statistics, multinomial logistic regression is a classification method that generalizes logistic regression to multiclass problems, i.e. with more than two possible discrete outcomes. It is a model that is used to predict the probabilities of the different possible outcomes of a categorically distributed dependent variable, given a set of independent variables.\n",
    "\n",
    "In a normal logistic problems there are typically two discrete values of the target which are labled as 0 or 1. In a multinomial or multiclass logistic resgression problem there are more than two classes are present. \n",
    "\n",
    "Following is an example:flower species is a target variable and The independent variables are sepal length , sepal width, petal length and petal width - based on which the target class is predicted.\n"
   ]
  },
  {
   "cell_type": "markdown",
   "metadata": {},
   "source": [
    "### Algorithmic Approach to solving a multi-class Problem-One vs All Classification"
   ]
  },
  {
   "cell_type": "markdown",
   "metadata": {},
   "source": [
    "Instead of y=0,1 we will expand our definition so that y=0,1...n\n",
    "Basically we re-run binary classification multiple times, once for each class.\n",
    "\n",
    "The Theoretical procedure is simple.\n",
    "\n",
    "1. Divide the problem into n+1 binary classification problems (+1 because the index starts at 0)i.e 1 For each class.\n",
    "\n",
    "2. Predict the probability the observations are in that single class.\n",
    "\n",
    "3. Prediction = max(probability of the classes) i.e class with the highest probaibility is selected\n",
    "\n",
    "For each sub-problem, we select one class (YES) and lump all the others into a second class (NO). Then we take the class with the highest predicted value.\n",
    "\n",
    "The diagram below explains the process \n",
    "\n",
    "![OnevsAll.jpg](nb_images/OnevsAll.jpg)\n"
   ]
  },
  {
   "cell_type": "markdown",
   "metadata": {},
   "source": [
    "### Multinomial Logistic Regression Implementation with Code "
   ]
  },
  {
   "cell_type": "markdown",
   "metadata": {},
   "source": [
    "\n",
    "### Dataset  \n"
   ]
  },
  {
   "cell_type": "markdown",
   "metadata": {},
   "source": [
    "The dataset contains details about irish flowers. \n",
    "- Target variable is Species which has 3 distinct classes- setosa, virginica,versicolor. \n",
    "- The independent variables are sepal length , sepal width, petal length and petal width,  based on these the target class shall be predicted"
   ]
  },
  {
   "cell_type": "code",
   "execution_count": 4,
   "metadata": {},
   "outputs": [
    {
     "data": {
      "text/html": [
       "<div>\n",
       "<style>\n",
       "    .dataframe thead tr:only-child th {\n",
       "        text-align: right;\n",
       "    }\n",
       "\n",
       "    .dataframe thead th {\n",
       "        text-align: left;\n",
       "    }\n",
       "\n",
       "    .dataframe tbody tr th {\n",
       "        vertical-align: top;\n",
       "    }\n",
       "</style>\n",
       "<table border=\"1\" class=\"dataframe\">\n",
       "  <thead>\n",
       "    <tr style=\"text-align: right;\">\n",
       "      <th></th>\n",
       "      <th>Sepal.Length</th>\n",
       "      <th>Sepal.Width</th>\n",
       "      <th>Petal.Length</th>\n",
       "      <th>Petal.Width</th>\n",
       "      <th>Species</th>\n",
       "    </tr>\n",
       "  </thead>\n",
       "  <tbody>\n",
       "    <tr>\n",
       "      <th>1</th>\n",
       "      <td>5.1</td>\n",
       "      <td>3.5</td>\n",
       "      <td>1.4</td>\n",
       "      <td>0.2</td>\n",
       "      <td>setosa</td>\n",
       "    </tr>\n",
       "    <tr>\n",
       "      <th>2</th>\n",
       "      <td>4.9</td>\n",
       "      <td>3.0</td>\n",
       "      <td>1.4</td>\n",
       "      <td>0.2</td>\n",
       "      <td>setosa</td>\n",
       "    </tr>\n",
       "    <tr>\n",
       "      <th>3</th>\n",
       "      <td>4.7</td>\n",
       "      <td>3.2</td>\n",
       "      <td>1.3</td>\n",
       "      <td>0.2</td>\n",
       "      <td>setosa</td>\n",
       "    </tr>\n",
       "    <tr>\n",
       "      <th>4</th>\n",
       "      <td>4.6</td>\n",
       "      <td>3.1</td>\n",
       "      <td>1.5</td>\n",
       "      <td>0.2</td>\n",
       "      <td>setosa</td>\n",
       "    </tr>\n",
       "    <tr>\n",
       "      <th>5</th>\n",
       "      <td>5.0</td>\n",
       "      <td>3.6</td>\n",
       "      <td>1.4</td>\n",
       "      <td>0.2</td>\n",
       "      <td>setosa</td>\n",
       "    </tr>\n",
       "  </tbody>\n",
       "</table>\n",
       "</div>"
      ],
      "text/plain": [
       "   Sepal.Length  Sepal.Width  Petal.Length  Petal.Width Species\n",
       "1           5.1          3.5           1.4          0.2  setosa\n",
       "2           4.9          3.0           1.4          0.2  setosa\n",
       "3           4.7          3.2           1.3          0.2  setosa\n",
       "4           4.6          3.1           1.5          0.2  setosa\n",
       "5           5.0          3.6           1.4          0.2  setosa"
      ]
     },
     "execution_count": 4,
     "metadata": {},
     "output_type": "execute_result"
    }
   ],
   "source": [
    "import pandas as pd\n",
    "import numpy as np\n",
    "from sklearn import datasets \n",
    "from sklearn.metrics import confusion_matrix \n",
    "from sklearn.model_selection import train_test_split\n",
    "from sklearn import linear_model\n",
    "from sklearn import metrics\n",
    "data = pd.read_csv('../DATA/iris.csv', index_col=0)\n",
    "data.head()\n"
   ]
  },
  {
   "cell_type": "markdown",
   "metadata": {},
   "source": [
    "### Multi class Logistic code Implementation :"
   ]
  },
  {
   "cell_type": "code",
   "execution_count": 73,
   "metadata": {},
   "outputs": [
    {
     "name": "stdout",
     "output_type": "stream",
     "text": [
      "Multinomial Logistic regression Train Accuracy:  0.980952380952\n",
      "Multinomial Logistic regression Test Accuracy:  0.955555555556\n",
      "     Predicted      Actual\n",
      "0       setosa      setosa\n",
      "1    virginica   virginica\n",
      "2       setosa      setosa\n",
      "3       setosa      setosa\n",
      "4       setosa      setosa\n",
      "5   versicolor  versicolor\n",
      "6    virginica  versicolor\n",
      "7    virginica   virginica\n",
      "8       setosa      setosa\n",
      "9       setosa      setosa\n",
      "10      setosa      setosa\n",
      "11      setosa      setosa\n",
      "12   virginica   virginica\n",
      "13  versicolor  versicolor\n",
      "14      setosa      setosa\n",
      "15   virginica   virginica\n",
      "16      setosa      setosa\n",
      "17   virginica   virginica\n",
      "18  versicolor  versicolor\n",
      "19  versicolor  versicolor\n",
      "20  versicolor  versicolor\n",
      "21  versicolor  versicolor\n",
      "22      setosa      setosa\n",
      "23      setosa      setosa\n",
      "24      setosa      setosa\n",
      "25   virginica   virginica\n",
      "26  versicolor  versicolor\n",
      "27      setosa      setosa\n",
      "28      setosa      setosa\n",
      "29  versicolor  versicolor\n",
      "30  versicolor  versicolor\n",
      "31  versicolor  versicolor\n",
      "32      setosa      setosa\n",
      "33      setosa      setosa\n",
      "34      setosa      setosa\n",
      "35      setosa      setosa\n",
      "36      setosa      setosa\n",
      "37  versicolor  versicolor\n",
      "38   virginica   virginica\n",
      "39  versicolor  versicolor\n",
      "40      setosa      setosa\n",
      "41  versicolor  versicolor\n",
      "42   virginica   virginica\n",
      "43  versicolor  versicolor\n",
      "44  versicolor   virginica\n"
     ]
    },
    {
     "name": "stderr",
     "output_type": "stream",
     "text": [
      "C:\\ProgramData\\Anaconda3\\lib\\site-packages\\sklearn\\utils\\validation.py:526: DataConversionWarning: A column-vector y was passed when a 1d array was expected. Please change the shape of y to (n_samples, ), for example using ravel().\n",
      "  y = column_or_1d(y, warn=True)\n"
     ]
    }
   ],
   "source": [
    "Features=['Sepal.Length','Sepal.Width','Petal.Length','Petal.Width']#Segregating Features\n",
    "Target=['Species']#Segregating Target\n",
    "X_train, X_test, y_train, y_test = train_test_split(data[Features],data[Target], train_size=0.7)# Splitting the dataset in two parts-training and test\n",
    "mul_lr = linear_model.LogisticRegression(multi_class='multinomial', solver='newton-cg').fit(X_train,y_train)# Fitting Model\n",
    "print(\"Multinomial Logistic regression Train Accuracy: \" ,metrics.accuracy_score(y_train, mul_lr.predict(X_train)))#Accuracy on Training Dataset\n",
    "print(\"Multinomial Logistic regression Test Accuracy: \" ,metrics.accuracy_score(y_test, mul_lr.predict(X_test)))#Acuracy on Test Dataset\n",
    "df = pd.DataFrame()\n",
    "df['Predicted']= mul_lr.predict(X_test)\n",
    "df['Actual']=y_test.dropna().values\n",
    "print(df) #Predictions(predicted classes) on Test dataset\n"
   ]
  },
  {
   "cell_type": "markdown",
   "metadata": {
    "collapsed": true
   },
   "source": [
    "### Explanation"
   ]
  },
  {
   "cell_type": "markdown",
   "metadata": {},
   "source": [
    "In the above, we have created a multiclass logistic regression classifier which have predicted the target values of test dataset with an accuracy of 95.55% . Above, we can see the distribution of actual target values and predicted target. In solving the problem we have used 70% of the dataset for training and rest 30% for testing."
   ]
  },
  {
   "cell_type": "markdown",
   "metadata": {},
   "source": [
    "### Questionarrie"
   ]
  },
  {
   "cell_type": "markdown",
   "metadata": {},
   "source": [
    "1. Why multi class regression is considered a combination of multiple logistic regression problems?\n",
    "\n",
    "2. Choose which of the following options is true regarding One-Vs-All method in Logistic Regression.\n",
    "\n",
    "    1. We need to fit n models in n-class classification problem\n",
    "    2. We need to fit n-1 models to classify into n classes\n",
    "    3. We need to fit only 1 model to classify into n classes\n",
    "    4. None of these\n",
    "\n",
    "3. What is the advantage of a stratified multiclass logistic regression model over a one vs all logistic model?\n",
    "\n",
    "4. Which of the following are cases of Linear Regression Model? Further categorize them into Simple Linear Regression Models  and Multiple Linear RegressionModels\n",
    "\n",
    "    1. DefaultAmount= a + ß^2(FICOScore)+ ?^3(Income)+ e\n",
    "    2. CATScore= a + ß(#Attempts)+ ?(EducationalBackground)+ e\n",
    "    3. Consumption= a+ ß(DisposableIncome)+ e\n",
    "    4. DemandPrice= a+ ß(QuantityDemanded)+ e\n",
    "\n",
    "\n"
   ]
  },
  {
   "cell_type": "markdown",
   "metadata": {
    "collapsed": true
   },
   "source": [
    "[Solutions](..Solutions.ipynb)"
   ]
  },
  {
   "cell_type": "markdown",
   "metadata": {},
   "source": [
    "Check out [here](..Multi%20Linear_Regression) a simple implementation of a simple linear regression done in excel"
   ]
  }
 ],
 "metadata": {
  "kernelspec": {
   "display_name": "Python 3",
   "language": "python",
   "name": "python3"
  },
  "language_info": {
   "codemirror_mode": {
    "name": "ipython",
    "version": 3
   },
   "file_extension": ".py",
   "mimetype": "text/x-python",
   "name": "python",
   "nbconvert_exporter": "python",
   "pygments_lexer": "ipython3",
   "version": "3.6.1"
  }
 },
 "nbformat": 4,
 "nbformat_minor": 2
}
